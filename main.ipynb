{
  "cells": [
    {
      "cell_type": "markdown",
      "id": "ce377058-5ed6-4ea1-8b05-2de37a869015",
      "metadata": {
        "id": "ce377058-5ed6-4ea1-8b05-2de37a869015"
      },
      "source": [
        "### システム概要 - 仕様書\n",
        "\n",
        "#### 1. **課題**\n",
        "- **目標**: FXのトレードを毎日繰り返し、最終日の日本円での資産の最大化。\n",
        "- **評価**: 以下のシナリオのうち、Jun_Aug_2017_without_commission、Jun_Aug_2017_with_commissionに提出いただいた最初の5回の平均と最大。\n",
        "\n",
        "#### 2. **条件**\n",
        "- **初期資産**: 1,000,000円\n",
        "- **トレード頻度**: 平日に一日一度、FXレートを基に貨幣の取引が可能。\n",
        "- **手数料**: 取引額のX％\n",
        "- **取引可能な通貨**: JPY, USD, EUR, AUD, HKD\n",
        "- **評価方法**: 最終日に全資産をJPYに変換し、その価値を評価。\n",
        "\n",
        "#### 3. **問題セット**\n",
        "各問題セットでは、以下の情報が提供されます：\n",
        "- **シナリオ名**: Scenario name\n",
        "- **取引開始日**: Start Date\n",
        "- **取引終了日**: End Date\n",
        "- **手数料**: 手数料率\n",
        "\n",
        "例:\n",
        "- TEST0: 2016-01-04 ～ 2016-01-11, 手数料 0%\n",
        "- TEST1: 2016-01-04 ～ 2016-01-11, 手数料 0.1%\n",
        "- Jun_Aug_2016_without_commission: 2016-06-01 ～ 2016-08-31, 手数料 0%\n",
        "- Jun_Aug_2016_with_commission: 2016-06-01 ～ 2016-08-31, 手数料 0.1%\n",
        "- Feb_Apr_2017_without_commission: 2017-02-01 ～ 2017-04-28, 手数料 0%\n",
        "- Feb_Apr_2017_wit_commission: 2017-02-01 ～ 2017-04-28, 手数料 0.1%\n",
        "- Jun_Aug_2017_without_commission: 2017-06-01 ～ 2017-08-31, 手数料 0%\n",
        "- Jun_Aug_2017_with_commission: 2017-06-01 ～ 2017-08-31, 手数料 0.1%\n",
        "\n",
        "Jun_Aug_2017_without_commissionとJun_Aug_2017_with_commissionにつきましては、評価で使用するために、当日皆様にお配りするuserIdを用いないとセッションを開始することはできません。\n",
        "\n",
        "#### 4. **API 概要**\n",
        "システムは以下のAPIを使用してトレードセッションを管理します。\n",
        "\n",
        "1. **セッション開始**:\n",
        "   - **概要**: 指定されたシナリオとUserIdに基づいて、トレードセッションを開始します。\n",
        "   - **エンドポイント**: `POST /api/trade/start/<scenario>/<userId>`\n",
        "   - **userId**: userIdは皆さんにご入場の際にお配りした6文字をお使いください。\n",
        "   - **currentDate**: 現在の日付\n",
        "   - **jpyBalance**: 現在の日本円での資産。\n",
        "   - **currentcyToBalance**: 現在のそれぞれの貨幣の資産の量\n",
        "   - **currentDateRate**: 現在の日付の為替レート\n",
        "   - **complete**: セッションが終了しているかどうかを表すフラグ\n",
        "   - **レスポンス例**:\n",
        "     ```json\n",
        "     {\n",
        "       \"sessionId\": 0,\n",
        "       \"startDate\": \"2016-01-04\",\n",
        "       \"endDate\": \"2016-01-11\",\n",
        "       \"currentDate\": \"2016-01-04\",\n",
        "       \"jpyBalance\": 1000000,\n",
        "       \"currencyToBalance\": {\n",
        "         \"JPY\": 1000000\n",
        "       },\n",
        "       \"currentDateRates\": {\n",
        "         \"USD/JPY\": 120.4,\n",
        "         \"EUR/JPY\": 130.59\n",
        "       },\n",
        "       \"complete\": false\n",
        "     }\n",
        "     ```\n",
        "\n",
        "2. **取引の実行**:\n",
        "   - **概要**: セッションの現在日付において、指定された取引を実行します。取引は最終日まで繰り返されます。指定した量の貨幣をcurrencyFromからcurrencyToへ、為替レートcurrentDateRatesを使って変換します。\n",
        "   \n",
        "   - **エンドポイント**: `POST /api/trade/next`\n",
        "   - **リクエスト例**:\n",
        "     ```json\n",
        "     {\n",
        "       \"sessionId\": 0,\n",
        "       \"exchangeRequests\": [\n",
        "         {\n",
        "           \"currencyFrom\": \"JPY\",\n",
        "           \"currencyTo\": \"USD\",\n",
        "           \"amount\": 1000\n",
        "         },\n",
        "         {\n",
        "           \"currencyFrom\": \"JPY\",\n",
        "           \"currencyTo\": \"AUD\",\n",
        "           \"amount\": 1000\n",
        "         }\n",
        "       ]\n",
        "     }\n",
        "     ```\n",
        "   - **レスポンス例**:\n",
        "   - レスポンスは`POST /api/trade/start/<scenario>/<userId>`と同様だが、currencyToBalanceが先ほどのリクエストに基づいて変更され、currentDateは翌日に、currentDateRatesが翌日の為替レートに、jpyBalanceが翌日の為替レートと現在の保有資産に基づいてアップデートされている。\n",
        "     ```json\n",
        "     {\n",
        "       \"sessionId\": 0,\n",
        "       \"startDate\": \"2016-01-04\",\n",
        "       \"endDate\": \"2016-01-11\",\n",
        "       \"currentDate\": \"2016-01-05\",\n",
        "       \"jpyBalance\": 999969.0392754745,\n",
        "       \"currencyToBalance\": {\n",
        "         \"JPY\": 998000,\n",
        "         \"USD\": 8.30564784053156,\n",
        "         \"AUD\": 11.415525114155253\n",
        "       },\n",
        "       \"currentDateRates\": {\n",
        "         \"USD/JPY\": 119.27,\n",
        "         \"EUR/JPY\": 129.17\n",
        "       },\n",
        "       \"complete\": false\n",
        "     }\n",
        "     ```\n",
        "    - これをcurrentDate == endDate になるまで繰り返す。その際、complete == trueとなっている。\n",
        "\n",
        "3. **FxRateの参照**:\n",
        "   - **エンドポイント**:\n",
        "     - `GET /api/rate/{date}`:\n",
        "   - **レスポンス例**:\n",
        "     ```json\n",
        "     {\n",
        "         \"USD/JPY\": 120.4,\n",
        "         \"EUR/JPY\": 130.59\n",
        "     }\n",
        "     ```\n",
        "**その他詳細**:\n",
        "- exchangeRequestsのamountが所有資産のcurrencyFromより多い場合、所有資産の全てをcurrencyToに変換する。\n",
        "- exchangeRequestsのamountが0より小さい場合、requestは無視される。\n",
        "- rateのAPIは2002-04-01から2023-06-01の間の為替レートを返す。\n"
      ]
    },
    {
      "cell_type": "code",
      "execution_count": 38,
      "id": "f39d5052-553f-4889-b683-e8dec9f087cc",
      "metadata": {
        "id": "f39d5052-553f-4889-b683-e8dec9f087cc"
      },
      "outputs": [],
      "source": [
        "# import library\n",
        "%matplotlib inline\n",
        "import requests\n",
        "import copy\n",
        "import matplotlib.pyplot as plt\n",
        "import numpy as np\n",
        "import time\n",
        "from datetime import datetime, timedelta\n",
        "from matplotlib import ticker"
      ]
    },
    {
      "cell_type": "code",
      "execution_count": 40,
      "id": "a95f2670-1a02-48ce-ae94-ac7fdb12254f",
      "metadata": {
        "id": "a95f2670-1a02-48ce-ae94-ac7fdb12254f"
      },
      "outputs": [],
      "source": [
        "# Define common variables\n",
        "CURRENCY_LIST = ['JPY','USD','AUD','HKD','EUR']\n",
        "JPY_PAIR_LIST =[currency + '/JPY'  for currency in CURRENCY_LIST if currency != 'JPY']\n",
        "CURRENCY_PAIR = [f\"{currency1}/{currency2}\" for currency1 in CURRENCY_LIST for currency2 in CURRENCY_LIST if currency1 != currency2]\n",
        "TESTCASE = 'Feb_Apr_2017_without_commission: 2017-02-01 ～ 2017-04-28, 手数料 0%' # 編集するとこ\n",
        "USERID = '3a6qdr'\n",
        "BASE_URL = 'http://os3-389-27987.vs.sakura.ne.jp/'\n",
        "START_URL = BASE_URL + 'api/trade/start/{}/{}'\n",
        "NEXT_URL = BASE_URL + 'api/trade/next'\n",
        "RATE_URL = BASE_URL + 'api/rate/{}'"
      ]
    },
    {
      "cell_type": "code",
      "execution_count": 41,
      "id": "fa072731-cbea-4c83-acd0-0882689cda60",
      "metadata": {
        "id": "fa072731-cbea-4c83-acd0-0882689cda60"
      },
      "outputs": [],
      "source": [
        "# Define common functions\n",
        "def get_last_n_weekdays(date_str, n):\n",
        "    given_date = datetime.strptime(date_str, '%Y-%m-%d').date()\n",
        "    weekdays = []\n",
        "\n",
        "    current_date = given_date\n",
        "    while len(weekdays) < n:\n",
        "        if current_date.weekday() < 5:  # Monday is 0 and Friday is 4\n",
        "            weekdays.append(current_date.strftime('%Y-%m-%d'))\n",
        "        current_date -= timedelta(days=1)\n",
        "\n",
        "    return weekdays[::-1]\n",
        "\n",
        "def init_rates_last_n_weekdays(date_str, n):\n",
        "    dates = get_last_n_weekdays(date_str, n)\n",
        "    currency_pair_to_rates = {currency_pair: [] for currency_pair in CURRENCY_PAIR}\n",
        "    for date in dates:\n",
        "        response = requests.get(RATE_URL.format(date))\n",
        "        currency_pair_to_rate = response.json()\n",
        "        for currency_pair, rate in currency_pair_to_rate.items(): currency_pair_to_rates[currency_pair].append(rate)\n",
        "    return currency_pair_to_rates\n",
        "\n",
        "def update_rates(currency_pair_to_rates, next_date_rates):\n",
        "    for currency_pair, rate in next_date_rates.items(): currency_pair_to_rates[currency_pair].append(rate)\n",
        "\n",
        "def get_currency_pairs(currency_from):\n",
        "    return [currency + '/' + currency_from for currency in CURRENCY_LIST if currency != currency_from]\n",
        "\n",
        "def plot_chart(axes, rates, today=None, label=None):\n",
        "    axes.xaxis.set_major_locator(ticker.MultipleLocator(10))\n",
        "    if today:\n",
        "        x = get_last_n_weekdays(today, len(rates))\n",
        "    else:\n",
        "        x = range(len(rates))\n",
        "    axes.plot(x, rates, label=label)\n",
        "\n",
        "def get_dma(rates, x):\n",
        "    return [sum(rates[max(0, i-x):i+1]) / len(rates[max(0, i-x):i+1]) for i in range(len(rates))]"
      ]
    },
    {
      "cell_type": "markdown",
      "id": "9bb4b71e",
      "metadata": {},
      "source": [
        "固定金額積立"
      ]
    },
    {
      "cell_type": "code",
      "execution_count": null,
      "id": "b7b6bc55-2e6d-4a44-a533-5c07c8097dcd",
      "metadata": {
        "id": "b7b6bc55-2e6d-4a44-a533-5c07c8097dcd"
      },
      "outputs": [],
      "source": [
        "# Example with changing fixed JPY amount to USD, AUD\n",
        "# 固定値積立\n",
        "def fixed_amount_from_jpy_to_usd(amount):\n",
        "    return [{\n",
        "            'currencyFrom': 'JPY',\n",
        "            'currencyTo': 'USD',\n",
        "            'amount': amount\n",
        "        }, {\n",
        "            'currencyFrom': 'JPY',\n",
        "            'currencyTo': 'AUD',\n",
        "            'amount': amount\n",
        "        }]"
      ]
    },
    {
      "cell_type": "code",
      "execution_count": null,
      "id": "51a45ba9-5b71-4da9-b6b8-f5a6e1540206",
      "metadata": {
        "colab": {
          "base_uri": "https://localhost:8080/"
        },
        "id": "51a45ba9-5b71-4da9-b6b8-f5a6e1540206",
        "outputId": "6ccfd8aa-ee20-44fc-c0cd-c5db0686de0f"
      },
      "outputs": [],
      "source": [
        "TESTCASE = 'TEST0'\n",
        "\n",
        "response = requests.post(START_URL.format(TESTCASE, USERID))\n",
        "session_info = response.json()\n",
        "session_id = session_info['sessionId']\n",
        "is_complete = session_info['complete']\n",
        "start_date = session_info['startDate']\n",
        "current_date = session_info['currentDate']\n",
        "currency_to_balance = session_info['currencyToBalance']\n",
        "currency_pair_to_rates = init_rates_last_n_weekdays(start_date, 10)\n",
        "\n",
        "while not is_complete:\n",
        "    exchange_requests = fixed_amount_from_jpy_to_usd(1000000000)\n",
        "    request_body_next = {\n",
        "        'sessionId': session_id,\n",
        "        'exchangeRequests': exchange_requests\n",
        "    }\n",
        "    if len(exchange_requests) > 0: print('current date: ' + current_date + ', exchange_requests' + str(exchange_requests))\n",
        "    response = requests.post(NEXT_URL, json=request_body_next)\n",
        "    next_info = response.json()\n",
        "    update_rates(currency_pair_to_rates, next_info['currentDateRates'])\n",
        "    current_date = next_info['currentDate']\n",
        "    currency_to_balance = next_info['currencyToBalance']\n",
        "    is_complete = next_info['complete']\n",
        "\n",
        "result = next_info['jpyBalance']\n",
        "print(result)"
      ]
    },
    {
      "cell_type": "markdown",
      "id": "9a525449",
      "metadata": {},
      "source": [
        "逆張りの例"
      ]
    },
    {
      "cell_type": "code",
      "execution_count": null,
      "id": "db7dfb8d-9832-43cb-9565-fa4e49ffdd80",
      "metadata": {
        "id": "db7dfb8d-9832-43cb-9565-fa4e49ffdd80"
      },
      "outputs": [],
      "source": [
        "# 逆張り戦略の例\n",
        "# 所持している資産の通貨が{x}日間連続で別の通貨に対して上昇しているとき、その通貨に{y}%変更する\n",
        "# 例えば、USD/JPYが3日間連続で減少しているとき、[130, 129, 128]、円はドルに対して価値が上昇しているので、円をドルに変更する\n",
        "CURRENCY_LIST = ['JPY','USD','AUD','HKD','EUR']\n",
        "\n",
        "def contranian_strategy(currency_pair_to_rates, currency_to_balance, x, y):\n",
        "    exchange_requests = []\n",
        "    for currency, balance in currency_to_balance.items():\n",
        "        if balance > 0:\n",
        "            currency_pairs = get_currency_pairs(currency)\n",
        "            for currency_pair in currency_pairs:\n",
        "                rates = currency_pair_to_rates[currency_pair][-x:]\n",
        "                if all(rates[i] > rates[i + 1] for i in range(len(rates) - 1)):\n",
        "                    print(currency_pair + ' rates for past x days: ' + str(rates))\n",
        "                    currency_pair_to_exchange = currency_pair\n",
        "                    exchange_requests.append({\n",
        "                        'currencyFrom': currency,\n",
        "                        'currencyTo': currency_pair[:3],\n",
        "                        'amount': balance * y / 100.0\n",
        "                    })\n",
        "                    break\n",
        "    return exchange_requests"
      ]
    },
    {
      "cell_type": "code",
      "execution_count": null,
      "id": "383ea00a-a248-4b03-b772-996fa3670184",
      "metadata": {
        "colab": {
          "base_uri": "https://localhost:8080/"
        },
        "id": "383ea00a-a248-4b03-b772-996fa3670184",
        "outputId": "4233a92d-bc92-431b-98b2-e3ee1feb729c"
      },
      "outputs": [],
      "source": [
        "TESTCASE = 'Jun_Aug_2016_without_commission'\n",
        "\n",
        "response = requests.post(START_URL.format(TESTCASE, USERID))\n",
        "session_info = response.json()\n",
        "session_id = session_info['sessionId']\n",
        "is_complete = session_info['complete']\n",
        "start_date = session_info['startDate']\n",
        "current_date = session_info['currentDate']\n",
        "currency_to_balance = session_info['currencyToBalance']\n",
        "currency_pair_to_rates = init_rates_last_n_weekdays(start_date, 10)\n",
        "\n",
        "while not is_complete:\n",
        "    exchange_requests = contranian_strategy(currency_pair_to_rates, currency_to_balance, 5, 30)\n",
        "    request_body_next = {\n",
        "        'sessionId': session_id,\n",
        "        'exchangeRequests': exchange_requests\n",
        "    }\n",
        "    if len(exchange_requests) > 0: print('current date: ' + current_date + ', exchange_requests' + str(exchange_requests))\n",
        "    response = requests.post(NEXT_URL, json=request_body_next)\n",
        "    next_info = response.json()\n",
        "    update_rates(currency_pair_to_rates, next_info['currentDateRates'])\n",
        "    current_date = next_info['currentDate']\n",
        "    currency_to_balance = next_info['currencyToBalance']\n",
        "    is_complete = next_info['complete']\n",
        "\n",
        "result = next_info['jpyBalance']\n",
        "print(result)"
      ]
    },
    {
      "cell_type": "markdown",
      "id": "afff9701",
      "metadata": {},
      "source": [
        "ゴールデンクロス・デッドクロスの例"
      ]
    },
    {
      "cell_type": "code",
      "execution_count": null,
      "id": "uZZWfad-AlVq",
      "metadata": {
        "id": "uZZWfad-AlVq"
      },
      "outputs": [],
      "source": [
        "# ゴールデンクロス・デッドクロスの例\n",
        "# 全資産をJPYを除く各通貨に均等に割り当て、x日移動平均がy日移動平均を上回る場合は上昇トレンド、下回る場合は下降トレンドと判断し、その通貨に変更する\n",
        "# 長いトレンドと短いトレンドを比較して\n",
        "def golden_and_death_cross_strategy(currency_pair_to_rates, currency_to_balance, x, y):\n",
        "    exchange_requests = []\n",
        "    trend = {}\n",
        "    # ポジションを持っていない通貨を計算\n",
        "    currencies_without_position = [currency for currency, balance in currency_to_balance.items() if balance == 0]\n",
        "\n",
        "    # それぞれの通貨についてトレンドを計算\n",
        "    for currency, balance in currency_to_balance.items():\n",
        "        if currency == 'JPY':\n",
        "            continue\n",
        "        currency_pair = currency + '/JPY'\n",
        "        if sum(currency_pair_to_rates[currency_pair][-x:])/x > sum(currency_pair_to_rates[currency_pair][-y:])/y:\n",
        "            # 上昇トレンドと判断\n",
        "            if balance == 0:\n",
        "                # (保有する円/ポジションを持っていない通貨の数)を変更\n",
        "                exchange_requests.append({\n",
        "                        'currencyFrom': 'JPY',\n",
        "                        'currencyTo': currency,\n",
        "                        'amount': currency_to_balance['JPY'] / len(currencies_without_position)\n",
        "                    })\n",
        "        else:\n",
        "            # 下降トレンドと判断\n",
        "            if  balance > 0:\n",
        "                # ポジションを解消\n",
        "                exchange_requests.append({\n",
        "                        'currencyFrom': currency,\n",
        "                        'currencyTo': 'JPY',\n",
        "                        'amount': currency_to_balance[currency]\n",
        "                    })\n",
        "    return exchange_requests"
      ]
    },
    {
      "cell_type": "code",
      "execution_count": null,
      "id": "ccrAmUWbAqtB",
      "metadata": {
        "colab": {
          "base_uri": "https://localhost:8080/"
        },
        "id": "ccrAmUWbAqtB",
        "outputId": "2b18b11c-60a4-47b0-c791-b010006365da"
      },
      "outputs": [],
      "source": [
        "TESTCASE = 'Jun_Aug_2016_without_commission'\n",
        "X = 5\n",
        "Y = 10\n",
        "\n",
        "response = requests.post(START_URL.format(TESTCASE, USERID))\n",
        "session_info = response.json()\n",
        "session_id = session_info['sessionId']\n",
        "is_complete = session_info['complete']\n",
        "start_date = session_info['startDate']\n",
        "current_date = session_info['currentDate']\n",
        "currency_to_balance = session_info['currencyToBalance']\n",
        "currency_pair_to_rates = init_rates_last_n_weekdays(start_date, 10)\n",
        "\n",
        "while not is_complete:\n",
        "    exchange_requests = golden_and_death_cross_strategy(currency_pair_to_rates, currency_to_balance, X, Y)\n",
        "    request_body_next = {\n",
        "        'sessionId': session_id,\n",
        "        'exchangeRequests': exchange_requests\n",
        "    }\n",
        "    if len(exchange_requests) > 0: print('current date: ' + current_date + ', exchange_requests' + str(exchange_requests))\n",
        "    response = requests.post(NEXT_URL, json=request_body_next)\n",
        "    next_info = response.json()\n",
        "    update_rates(currency_pair_to_rates, next_info['currentDateRates'])\n",
        "    current_date = next_info['currentDate']\n",
        "    currency_to_balance = next_info['currencyToBalance']\n",
        "    is_complete = next_info['complete']\n",
        "\n",
        "result = next_info['jpyBalance']\n",
        "print(current_date, result)"
      ]
    },
    {
      "cell_type": "code",
      "execution_count": null,
      "id": "XalCuWWxAtKD",
      "metadata": {
        "colab": {
          "base_uri": "https://localhost:8080/",
          "height": 630
        },
        "id": "XalCuWWxAtKD",
        "outputId": "6505fe82-6c1a-4013-b661-e7ee877a2bdb"
      },
      "outputs": [],
      "source": [
        "figure, ax = plt.subplots(figsize=(30,10))\n",
        "ax.grid()\n",
        "currency_pair = 'USD/JPY'\n",
        "plot_chart(ax, currency_pair_to_rates[currency_pair], today=current_date, label=currency_pair)\n",
        "plot_chart(ax, get_dma(currency_pair_to_rates[currency_pair], X), today=current_date, label=currency_pair + ' {}DMA'.format(X))\n",
        "plot_chart(ax, get_dma(currency_pair_to_rates[currency_pair], Y), today=current_date, label=currency_pair + ' {}DMA'.format(Y))\n",
        "plt.legend()\n",
        "plt.show()"
      ]
    },
    {
      "cell_type": "markdown",
      "id": "2cd309cd",
      "metadata": {},
      "source": [
        "## 実行"
      ]
    },
    {
      "cell_type": "markdown",
      "id": "213549fe",
      "metadata": {},
      "source": [
        "ゴールデンクロス・デッドクロス"
      ]
    },
    {
      "cell_type": "markdown",
      "id": "11f88f69",
      "metadata": {},
      "source": [
        "短期：5日　長期:5×i日　の場合"
      ]
    },
    {
      "cell_type": "code",
      "execution_count": 42,
      "id": "e4e6321b",
      "metadata": {},
      "outputs": [],
      "source": [
        "# ゴールデンクロス・デッドクロスの例\n",
        "# 全資産をJPYを除く各通貨に均等に割り当て、x日移動平均がy日移動平均を上回る場合は上昇トレンド、下回る場合は下降トレンドと判断し、その通貨に変更する\n",
        "def golden_and_death_cross_strategy(currency_pair_to_rates, currency_to_balance, x, y):\n",
        "    exchange_requests = []\n",
        "    trend = {}\n",
        "    # ポジションを持っていない通貨を計算\n",
        "    currencies_without_position = [currency for currency, balance in currency_to_balance.items() if balance == 0]\n",
        "\n",
        "    # それぞれの通貨についてトレンドを計算\n",
        "    for currency, balance in currency_to_balance.items():\n",
        "        if currency == 'JPY':\n",
        "            continue\n",
        "        currency_pair = currency + '/JPY'\n",
        "        if sum(currency_pair_to_rates[currency_pair][-x:])/x > sum(currency_pair_to_rates[currency_pair][-y:])/y:\n",
        "            # 上昇トレンドと判断\n",
        "            if balance == 0:\n",
        "                # (保有する円/ポジションを持っていない通貨の数)を変更\n",
        "                exchange_requests.append({\n",
        "                        'currencyFrom': 'JPY',\n",
        "                        'currencyTo': currency,\n",
        "                        'amount': currency_to_balance['JPY'] / len(currencies_without_position)\n",
        "                    })\n",
        "        else:\n",
        "            # 下降トレンドと判断\n",
        "            if  balance > 0:\n",
        "                # ポジションを解消\n",
        "                exchange_requests.append({\n",
        "                        'currencyFrom': currency,\n",
        "                        'currencyTo': 'JPY',\n",
        "                        'amount': currency_to_balance[currency]\n",
        "                    })\n",
        "    return exchange_requests"
      ]
    },
    {
      "cell_type": "code",
      "execution_count": null,
      "id": "5783d4b2",
      "metadata": {},
      "outputs": [],
      "source": [
        "# ゴールデンクロスデッドクロスの移動平均を変えてみる\n",
        "\n",
        "TESTCASE = 'Jun_Aug_2016_without_commission'\n",
        "result_list_gd = []\n",
        "\n",
        "for i in (2,15):\n",
        "    X = 5 \n",
        "    Y = X * i\n",
        "    response = requests.post(START_URL.format(TESTCASE, USERID))\n",
        "    session_info = response.json()\n",
        "    session_id = session_info['sessionId']\n",
        "    is_complete = session_info['complete']\n",
        "    start_date = session_info['startDate']\n",
        "    current_date = session_info['currentDate']\n",
        "    currency_to_balance = session_info['currencyToBalance']\n",
        "    currency_pair_to_rates = init_rates_last_n_weekdays(start_date, 10)\n",
        "\n",
        "    while not is_complete:\n",
        "        exchange_requests = golden_and_death_cross_strategy(currency_pair_to_rates, currency_to_balance, X, Y)\n",
        "        request_body_next = {\n",
        "            'sessionId': session_id,\n",
        "            'exchangeRequests': exchange_requests\n",
        "        }\n",
        "        if len(exchange_requests) > 0: print('current date: ' + current_date + ', exchange_requests' + str(exchange_requests))\n",
        "        response = requests.post(NEXT_URL, json=request_body_next)\n",
        "        next_info = response.json()\n",
        "        update_rates(currency_pair_to_rates, next_info['currentDateRates'])\n",
        "        current_date = next_info['currentDate']\n",
        "        currency_to_balance = next_info['currencyToBalance']\n",
        "        is_complete = next_info['complete']\n",
        "\n",
        "    result = next_info['jpyBalance']\n",
        "    # print(current_date, result)\n",
        "    result_list_gd.append(result)"
      ]
    },
    {
      "cell_type": "code",
      "execution_count": null,
      "id": "efb2f160",
      "metadata": {},
      "outputs": [],
      "source": [
        "print(result_list_gd)"
      ]
    },
    {
      "cell_type": "markdown",
      "id": "931da589",
      "metadata": {},
      "source": [
        "短期：3日　長期:3×i日　の場合"
      ]
    },
    {
      "cell_type": "code",
      "execution_count": 44,
      "id": "5c3309c7",
      "metadata": {},
      "outputs": [
        {
          "ename": "KeyError",
          "evalue": "'sessionId'",
          "output_type": "error",
          "traceback": [
            "\u001b[0;31m---------------------------------------------------------------------------\u001b[0m",
            "\u001b[0;31mKeyError\u001b[0m                                  Traceback (most recent call last)",
            "Cell \u001b[0;32mIn[44], line 11\u001b[0m\n\u001b[1;32m      9\u001b[0m response \u001b[38;5;241m=\u001b[39m requests\u001b[38;5;241m.\u001b[39mpost(START_URL\u001b[38;5;241m.\u001b[39mformat(TESTCASE, USERID))\n\u001b[1;32m     10\u001b[0m session_info \u001b[38;5;241m=\u001b[39m response\u001b[38;5;241m.\u001b[39mjson()\n\u001b[0;32m---> 11\u001b[0m session_id \u001b[38;5;241m=\u001b[39m \u001b[43msession_info\u001b[49m\u001b[43m[\u001b[49m\u001b[38;5;124;43m'\u001b[39;49m\u001b[38;5;124;43msessionId\u001b[39;49m\u001b[38;5;124;43m'\u001b[39;49m\u001b[43m]\u001b[49m\n\u001b[1;32m     12\u001b[0m is_complete \u001b[38;5;241m=\u001b[39m session_info[\u001b[38;5;124m'\u001b[39m\u001b[38;5;124mcomplete\u001b[39m\u001b[38;5;124m'\u001b[39m]\n\u001b[1;32m     13\u001b[0m start_date \u001b[38;5;241m=\u001b[39m session_info[\u001b[38;5;124m'\u001b[39m\u001b[38;5;124mstartDate\u001b[39m\u001b[38;5;124m'\u001b[39m]\n",
            "\u001b[0;31mKeyError\u001b[0m: 'sessionId'"
          ]
        }
      ],
      "source": [
        "# これを提出\n",
        "# ゴールデンクロスデッドクロスの移動平均を変えてみる\n",
        "\n",
        "TESTCASE = 'Feb_Apr_2017_without_commission: 2017-02-01 ～ 2017-04-28, 手数料 0%'\n",
        "\n",
        "for _ in range(5):\n",
        "    X = 3\n",
        "    Y = X * 2\n",
        "    response = requests.post(START_URL.format(TESTCASE, USERID))\n",
        "    session_info = response.json()\n",
        "    session_id = session_info['sessionId']\n",
        "    is_complete = session_info['complete']\n",
        "    start_date = session_info['startDate']\n",
        "    current_date = session_info['currentDate']\n",
        "    currency_to_balance = session_info['currencyToBalance']\n",
        "    currency_pair_to_rates = init_rates_last_n_weekdays(start_date, 10)\n",
        "\n",
        "    while not is_complete:\n",
        "        exchange_requests = golden_and_death_cross_strategy(currency_pair_to_rates, currency_to_balance, X, Y)\n",
        "        request_body_next = {\n",
        "            'sessionId': session_id,\n",
        "            'exchangeRequests': exchange_requests\n",
        "        }\n",
        "        if len(exchange_requests) > 0: print('current date: ' + current_date + ', exchange_requests' + str(exchange_requests))\n",
        "        response = requests.post(NEXT_URL, json=request_body_next)\n",
        "        next_info = response.json()\n",
        "        update_rates(currency_pair_to_rates, next_info['currentDateRates'])\n",
        "        current_date = next_info['currentDate']\n",
        "        currency_to_balance = next_info['currencyToBalance']\n",
        "        is_complete = next_info['complete']\n",
        "\n",
        "    result = next_info['jpyBalance']\n",
        "    print(current_date, result)"
      ]
    },
    {
      "cell_type": "markdown",
      "id": "1b02d950",
      "metadata": {},
      "source": [
        "短期：7日　長期:7×i日　の場合"
      ]
    },
    {
      "cell_type": "code",
      "execution_count": null,
      "id": "5ed2fd32",
      "metadata": {},
      "outputs": [],
      "source": [
        "# ゴールデンクロスデッドクロスの移動平均を変えてみる\n",
        "\n",
        "TESTCASE = 'Jun_Aug_2016_without_commission'\n",
        "result_list_gd_7 = []\n",
        "\n",
        "for i in (2,12):\n",
        "    X = 7\n",
        "    Y = X * i\n",
        "    response = requests.post(START_URL.format(TESTCASE, USERID))\n",
        "    session_info = response.json()\n",
        "    session_id = session_info['sessionId']\n",
        "    is_complete = session_info['complete']\n",
        "    start_date = session_info['startDate']\n",
        "    current_date = session_info['currentDate']\n",
        "    currency_to_balance = session_info['currencyToBalance']\n",
        "    currency_pair_to_rates = init_rates_last_n_weekdays(start_date, 10)\n",
        "\n",
        "    while not is_complete:\n",
        "        exchange_requests = golden_and_death_cross_strategy(currency_pair_to_rates, currency_to_balance, X, Y)\n",
        "        request_body_next = {\n",
        "            'sessionId': session_id,\n",
        "            'exchangeRequests': exchange_requests\n",
        "        }\n",
        "        if len(exchange_requests) > 0: print('current date: ' + current_date + ', exchange_requests' + str(exchange_requests))\n",
        "        response = requests.post(NEXT_URL, json=request_body_next)\n",
        "        next_info = response.json()\n",
        "        update_rates(currency_pair_to_rates, next_info['currentDateRates'])\n",
        "        current_date = next_info['currentDate']\n",
        "        currency_to_balance = next_info['currencyToBalance']\n",
        "        is_complete = next_info['complete']\n",
        "\n",
        "    result = next_info['jpyBalance']\n",
        "    # print(current_date, result)\n",
        "    result_list_gd_7.append(result)"
      ]
    },
    {
      "cell_type": "code",
      "execution_count": null,
      "id": "24a0375c",
      "metadata": {},
      "outputs": [],
      "source": [
        "print(result_list_gd_7)"
      ]
    },
    {
      "cell_type": "markdown",
      "id": "1c4132e9",
      "metadata": {},
      "source": [
        "長期トレンドと短期トレンドの期間はそんなに差がない方がいい"
      ]
    },
    {
      "cell_type": "markdown",
      "id": "699fa672",
      "metadata": {},
      "source": [
        "逆張り"
      ]
    },
    {
      "cell_type": "code",
      "execution_count": null,
      "id": "b49e5f7b",
      "metadata": {},
      "outputs": [],
      "source": [
        "# 逆張り戦略\n",
        "\n",
        "\n",
        "# 所持している資産の通貨が{x}日間連続で別の通貨に対して上昇しているとき、その通貨に{y}%変更する\n",
        "# 例えば、USD/JPYが3日間連続で減少しているとき、[130, 129, 128]、円はドルに対して価値が上昇しているので、円をドルに変更する\n",
        "CURRENCY_LIST = ['JPY','USD','AUD','HKD','EUR']\n",
        "\n",
        "def contranian_strategy(currency_pair_to_rates, currency_to_balance, x, y):\n",
        "    exchange_requests = []\n",
        "    for currency, balance in currency_to_balance.items():\n",
        "        if balance > 0:\n",
        "            currency_pairs = get_currency_pairs(currency)\n",
        "            for currency_pair in currency_pairs:\n",
        "                rates = currency_pair_to_rates[currency_pair][-x:]\n",
        "                if all(rates[i] > rates[i + 1] for i in range(len(rates) - 1)):\n",
        "                    print(currency_pair + ' rates for past x days: ' + str(rates))\n",
        "                    currency_pair_to_exchange = currency_pair\n",
        "                    exchange_requests.append({\n",
        "                        'currencyFrom': currency,\n",
        "                        'currencyTo': currency_pair[:3],\n",
        "                        'amount': balance * y / 100.0\n",
        "                    })\n",
        "                    break\n",
        "    return exchange_requests"
      ]
    },
    {
      "cell_type": "code",
      "execution_count": null,
      "id": "c5623196",
      "metadata": {},
      "outputs": [],
      "source": [
        "TESTCASE_list = ['TEST0', 'TEST1', 'Jun_Aug_2016_without_commission', 'Jun_Aug_2016_with_commission']\n",
        "result_list = []\n",
        "for TESTCASE in TESTCASE_list:\n",
        "    response = requests.post(START_URL.format(TESTCASE, USERID))\n",
        "    session_info = response.json()\n",
        "    session_id = session_info['sessionId']\n",
        "    is_complete = session_info['complete']\n",
        "    start_date = session_info['startDate']\n",
        "    current_date = session_info['currentDate']\n",
        "    currency_to_balance = session_info['currencyToBalance']\n",
        "    currency_pair_to_rates = init_rates_last_n_weekdays(start_date, 10)\n",
        "\n",
        "    while not is_complete:\n",
        "        exchange_requests = contranian_strategy(currency_pair_to_rates, currency_to_balance, 5, 30)\n",
        "        request_body_next = {\n",
        "            'sessionId': session_id,\n",
        "            'exchangeRequests': exchange_requests\n",
        "        }\n",
        "        if len(exchange_requests) > 0: print('current date: ' + current_date + ', exchange_requests' + str(exchange_requests))\n",
        "        response = requests.post(NEXT_URL, json=request_body_next)\n",
        "        next_info = response.json()\n",
        "        update_rates(currency_pair_to_rates, next_info['currentDateRates'])\n",
        "        current_date = next_info['currentDate']\n",
        "        currency_to_balance = next_info['currencyToBalance']\n",
        "        is_complete = next_info['complete']\n",
        "\n",
        "    result = next_info['jpyBalance']\n",
        "    result_list.append(result)"
      ]
    },
    {
      "cell_type": "code",
      "execution_count": null,
      "id": "a3f12344",
      "metadata": {},
      "outputs": [],
      "source": [
        "print(result_list)"
      ]
    },
    {
      "cell_type": "markdown",
      "id": "6d2a11df",
      "metadata": {},
      "source": [
        "USD,AUD"
      ]
    },
    {
      "cell_type": "code",
      "execution_count": null,
      "id": "c539f07e",
      "metadata": {},
      "outputs": [],
      "source": [
        "# Example with changing fixed JPY amount to USD, AUD\n",
        "# 固定値積立\n",
        "def fixed_amount_from_jpy_to_usd(amount):\n",
        "    return [{\n",
        "            'currencyFrom': 'JPY',\n",
        "            'currencyTo': 'USD',\n",
        "            'amount': amount\n",
        "        }, {\n",
        "            'currencyFrom': 'JPY',\n",
        "            'currencyTo': 'AUD',\n",
        "            'amount': amount\n",
        "        }]"
      ]
    },
    {
      "cell_type": "code",
      "execution_count": null,
      "id": "9643fc68",
      "metadata": {},
      "outputs": [],
      "source": [
        "TESTCASE_list = ['TEST0', 'TEST1', 'Jun_Aug_2016_without_commission', 'Jun_Aug_2016_with_commission']\n",
        "result_list_USD_AUD = []\n",
        "for TESTCASE in TESTCASE_list:\n",
        "    response = requests.post(START_URL.format(TESTCASE, USERID))\n",
        "    session_info = response.json()\n",
        "    session_id = session_info['sessionId']\n",
        "    is_complete = session_info['complete']\n",
        "    start_date = session_info['startDate']\n",
        "    current_date = session_info['currentDate']\n",
        "    currency_to_balance = session_info['currencyToBalance']\n",
        "    currency_pair_to_rates = init_rates_last_n_weekdays(start_date, 10)\n",
        "\n",
        "    while not is_complete:\n",
        "        exchange_requests = fixed_amount_from_jpy_to_usd(1000000000)\n",
        "        request_body_next = {\n",
        "            'sessionId': session_id,\n",
        "            'exchangeRequests': exchange_requests\n",
        "        }\n",
        "        if len(exchange_requests) > 0: print('current date: ' + current_date + ', exchange_requests' + str(exchange_requests))\n",
        "        response = requests.post(NEXT_URL, json=request_body_next)\n",
        "        next_info = response.json()\n",
        "        update_rates(currency_pair_to_rates, next_info['currentDateRates'])\n",
        "        current_date = next_info['currentDate']\n",
        "        currency_to_balance = next_info['currencyToBalance']\n",
        "        is_complete = next_info['complete']\n",
        "\n",
        "    result = next_info['jpyBalance']\n",
        "    result_list_USD_AUD.append(result)"
      ]
    },
    {
      "cell_type": "code",
      "execution_count": null,
      "id": "6a1d6f68",
      "metadata": {},
      "outputs": [],
      "source": [
        "print(result_list_USD_AUD)"
      ]
    },
    {
      "cell_type": "code",
      "execution_count": null,
      "id": "4682e622",
      "metadata": {},
      "outputs": [],
      "source": []
    },
    {
      "cell_type": "markdown",
      "id": "ec8cd541",
      "metadata": {},
      "source": [
        "手数料なしの方向で"
      ]
    },
    {
      "cell_type": "markdown",
      "id": "ab2c0d25",
      "metadata": {},
      "source": [
        "## Transformerを使ってみる"
      ]
    },
    {
      "cell_type": "code",
      "execution_count": 26,
      "id": "3a81bfc3",
      "metadata": {},
      "outputs": [],
      "source": [
        "import requests\n",
        "import numpy as np\n",
        "import torch\n",
        "import torch.nn as nn\n",
        "import torch.optim as optim\n",
        "from torch.utils.data import Dataset, DataLoader\n",
        "from sklearn.preprocessing import MinMaxScaler\n"
      ]
    },
    {
      "cell_type": "code",
      "execution_count": 30,
      "id": "55800e3c",
      "metadata": {},
      "outputs": [],
      "source": [
        "USERID = '3a6qdr'\n",
        "TESTCASE = 'Jun_Aug_2016_without_commission'\n",
        "BASE_URL = 'http://os3-389-27987.vs.sakura.ne.jp/'\n",
        "START_URL = BASE_URL + 'api/trade/start/{}/{}'\n",
        "RATE_URL = BASE_URL + 'api/rate/{}'\n",
        "CURRENCY_LIST = ['JPY','USD','AUD','HKD','EUR']\n",
        "JPY_PAIR_LIST = [currency + '/JPY'  for currency in CURRENCY_LIST if currency != 'JPY']\n",
        "\n",
        "response = requests.get(START_URL.format(USERID, TESTCASE))\n",
        "if response.status_code == 200:\n",
        "    data = response.json()\n",
        "    # レートデータを取得\n",
        "    rate_data = []\n",
        "    for pair in JPY_PAIR_LIST:\n",
        "        rate_response = requests.get(RATE_URL.format(pair))\n",
        "        if rate_response.status_code == 200:\n",
        "            rate_data.append(rate_response.json())\n",
        "    # データの加工処理を行う（ここは具体的なデータ構造に応じて実装）\n"
      ]
    },
    {
      "cell_type": "code",
      "execution_count": 34,
      "id": "8712adf2",
      "metadata": {},
      "outputs": [
        {
          "name": "stdout",
          "output_type": "stream",
          "text": [
            "Failed to start trading session: 500\n"
          ]
        }
      ],
      "source": [
        "USERID = '3a6qdr'\n",
        "TESTCASE = 'Jun_Aug_2016_without_commission'\n",
        "BASE_URL = 'http://os3-389-27987.vs.sakura.ne.jp/'\n",
        "START_URL = BASE_URL + 'api/trade/start/{}/{}'\n",
        "RATE_URL = BASE_URL + 'api/rate/{}'\n",
        "CURRENCY_LIST = ['JPY','USD','AUD','HKD','EUR']\n",
        "JPY_PAIR_LIST = [currency + '/JPY' for currency in CURRENCY_LIST if currency != 'JPY']\n",
        "\n",
        "# スタートデータを取得\n",
        "response = requests.post(START_URL.format(USERID, TESTCASE), json={\"param1\": \"value1\", \"param2\": \"value2\"})\n",
        "if response.status_code == 200:\n",
        "    data = response.json()\n",
        "    print(\"Start Data:\", data)  # デバッグ用出力\n",
        "\n",
        "    # レートデータを取得\n",
        "    rate_data = []  # rate_dataの定義を確認\n",
        "    for pair in JPY_PAIR_LIST:\n",
        "        rate_response = requests.get(RATE_URL.format(pair))\n",
        "        if rate_response.status_code == 200:\n",
        "            rate_data.append(rate_response.json())\n",
        "        else:\n",
        "            print(f\"Failed to get rate for {pair}: {rate_response.status_code}\")\n",
        "    \n",
        "    print(\"Rate Data:\", rate_data)  # デバッグ用出力\n",
        "\n",
        "    # rate_dataのサイズを確認\n",
        "    if len(rate_data) > 0:\n",
        "        # データの加工処理を行う（ここは具体的なデータ構造に応じて実装）\n",
        "        # 例: データの整形、スケーリングなど\n",
        "        pass\n",
        "    else:\n",
        "        print(\"No rate data was retrieved.\")\n",
        "else:\n",
        "    print(f\"Failed to start trading session: {response.status_code}\")\n"
      ]
    },
    {
      "cell_type": "code",
      "execution_count": 28,
      "id": "99d59a43",
      "metadata": {},
      "outputs": [
        {
          "ename": "NameError",
          "evalue": "name 'rate_data' is not defined",
          "output_type": "error",
          "traceback": [
            "\u001b[0;31m---------------------------------------------------------------------------\u001b[0m",
            "\u001b[0;31mNameError\u001b[0m                                 Traceback (most recent call last)",
            "Cell \u001b[0;32mIn[28], line 3\u001b[0m\n\u001b[1;32m      1\u001b[0m \u001b[38;5;66;03m# スケーリング\u001b[39;00m\n\u001b[1;32m      2\u001b[0m scaler \u001b[38;5;241m=\u001b[39m MinMaxScaler()\n\u001b[0;32m----> 3\u001b[0m rate_data_scaled \u001b[38;5;241m=\u001b[39m scaler\u001b[38;5;241m.\u001b[39mfit_transform(\u001b[43mrate_data\u001b[49m)\n\u001b[1;32m      5\u001b[0m \u001b[38;5;66;03m# データセットの作成\u001b[39;00m\n\u001b[1;32m      6\u001b[0m PREDICTION_DAYS \u001b[38;5;241m=\u001b[39m \u001b[38;5;241m11\u001b[39m\n",
            "\u001b[0;31mNameError\u001b[0m: name 'rate_data' is not defined"
          ]
        }
      ],
      "source": [
        "# スケーリング\n",
        "scaler = MinMaxScaler()\n",
        "rate_data_scaled = scaler.fit_transform(rate_data)\n",
        "\n",
        "# データセットの作成\n",
        "PREDICTION_DAYS = 11\n",
        "seq_length = 30\n",
        "\n",
        "class TimeSeriesDataset(Dataset):\n",
        "    def __init__(self, data, seq_length):\n",
        "        self.data = torch.FloatTensor(data)\n",
        "        self.seq_length = seq_length\n",
        "\n",
        "    def __len__(self):\n",
        "        return len(self.data) - self.seq_length - (PREDICTION_DAYS - 1)\n",
        "\n",
        "    def __getitem__(self, index):\n",
        "        return (self.data[index:index+self.seq_length, :-1], \n",
        "                self.data[index+self.seq_length+(PREDICTION_DAYS-1), -1])\n",
        "\n",
        "train_dataset = TimeSeriesDataset(rate_data_scaled, seq_length)\n",
        "train_loader = DataLoader(train_dataset, batch_size=32, shuffle=True)\n"
      ]
    },
    {
      "cell_type": "code",
      "execution_count": null,
      "id": "1ee5117f",
      "metadata": {},
      "outputs": [],
      "source": [
        "class FXTransformerModel(nn.Module):\n",
        "    def __init__(self, input_dim, d_model, nhead, num_layers, num_pairs):\n",
        "        super(FXTransformerModel, self).__init__()\n",
        "        self.embedding = nn.Linear(input_dim * num_pairs, d_model)\n",
        "        self.transformer = nn.TransformerEncoder(\n",
        "            nn.TransformerEncoderLayer(d_model, nhead), num_layers)\n",
        "        self.fc = nn.Linear(d_model, 1)\n",
        "\n",
        "    def forward(self, x):\n",
        "        x = self.embedding(x)\n",
        "        x = x.permute(1, 0, 2)\n",
        "        x = self.transformer(x)\n",
        "        x = x[-1]\n",
        "        return self.fc(x).squeeze()\n"
      ]
    },
    {
      "cell_type": "code",
      "execution_count": null,
      "id": "c2a3b69f",
      "metadata": {},
      "outputs": [],
      "source": [
        "input_dim = len(JPY_PAIR_LIST)\n",
        "d_model = 64\n",
        "nhead = 4\n",
        "num_layers = 2\n",
        "device = torch.device('cuda' if torch.cuda.is_available() else 'cpu')\n",
        "\n",
        "model = FXTransformerModel(input_dim, d_model, nhead, num_layers, num_pairs=len(JPY_PAIR_LIST)).to(device)\n",
        "criterion = nn.MSELoss()\n",
        "optimizer = optim.Adam(model.parameters())\n",
        "\n",
        "num_epochs = 5\n",
        "for epoch in range(num_epochs):\n",
        "    model.train()\n",
        "    for batch_x, batch_y in train_loader:\n",
        "        batch_x, batch_y = batch_x.to(device), batch_y.to(device)\n",
        "        optimizer.zero_grad()\n",
        "        outputs = model(batch_x)\n",
        "        loss = criterion(outputs, batch_y)\n",
        "        loss.backward()\n",
        "        optimizer.step()\n",
        "    print(f'Epoch [{epoch+1}/{num_epochs}], Loss: {loss.item():.4f}')\n"
      ]
    },
    {
      "cell_type": "code",
      "execution_count": null,
      "id": "8be4f463",
      "metadata": {},
      "outputs": [],
      "source": [
        "model.eval()\n",
        "predictions = []\n",
        "with torch.no_grad():\n",
        "    for batch_x, _ in train_loader:\n",
        "        batch_x = batch_x.to(device)\n",
        "        output = model(batch_x).to(\"cpu\")\n",
        "        predictions.append(output.item())\n",
        "\n",
        "# 予測結果を逆スケーリング\n",
        "test_features = rate_data_scaled[seq_length:-(PREDICTION_DAYS-1)]\n",
        "predictions_array = np.array(predictions).reshape(-1, 1)\n",
        "\n",
        "predictions_unscaled = scaler.inverse_transform(\n",
        "    np.column_stack([test_features, predictions_array]))[:, -1]\n"
      ]
    },
    {
      "cell_type": "code",
      "execution_count": null,
      "id": "fa68a95f",
      "metadata": {},
      "outputs": [],
      "source": [
        "print(\"予測収支:\", predictions_unscaled)\n"
      ]
    }
  ],
  "metadata": {
    "colab": {
      "provenance": []
    },
    "kernelspec": {
      "display_name": "Python 3 (ipykernel)",
      "language": "python",
      "name": "python3"
    },
    "language_info": {
      "codemirror_mode": {
        "name": "ipython",
        "version": 3
      },
      "file_extension": ".py",
      "mimetype": "text/x-python",
      "name": "python",
      "nbconvert_exporter": "python",
      "pygments_lexer": "ipython3",
      "version": "3.11.1"
    }
  },
  "nbformat": 4,
  "nbformat_minor": 5
}
